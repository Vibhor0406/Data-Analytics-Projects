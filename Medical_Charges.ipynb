{
 "cells": [
  {
   "cell_type": "markdown",
   "metadata": {},
   "source": [
    "# MEDICAL CHARGES:\n",
    "#### Given multiple attributes, we need to predict the insurance costs."
   ]
  },
  {
   "cell_type": "code",
   "execution_count": 134,
   "metadata": {},
   "outputs": [],
   "source": [
    "import numpy as np\n",
    "import pandas as pd\n",
    "import seaborn as sns\n",
    "import matplotlib as mp\n",
    "from sklearn.linear_model import LinearRegression\n",
    "from sklearn.model_selection import train_test_split\n",
    "from scipy import stats"
   ]
  },
  {
   "cell_type": "code",
   "execution_count": 135,
   "metadata": {},
   "outputs": [
    {
     "data": {
      "text/html": [
       "<div>\n",
       "<style scoped>\n",
       "    .dataframe tbody tr th:only-of-type {\n",
       "        vertical-align: middle;\n",
       "    }\n",
       "\n",
       "    .dataframe tbody tr th {\n",
       "        vertical-align: top;\n",
       "    }\n",
       "\n",
       "    .dataframe thead th {\n",
       "        text-align: right;\n",
       "    }\n",
       "</style>\n",
       "<table border=\"1\" class=\"dataframe\">\n",
       "  <thead>\n",
       "    <tr style=\"text-align: right;\">\n",
       "      <th></th>\n",
       "      <th>age</th>\n",
       "      <th>sex</th>\n",
       "      <th>bmi</th>\n",
       "      <th>children</th>\n",
       "      <th>smoker</th>\n",
       "      <th>region</th>\n",
       "      <th>charges</th>\n",
       "    </tr>\n",
       "  </thead>\n",
       "  <tbody>\n",
       "    <tr>\n",
       "      <th>0</th>\n",
       "      <td>19</td>\n",
       "      <td>female</td>\n",
       "      <td>27.900</td>\n",
       "      <td>0</td>\n",
       "      <td>yes</td>\n",
       "      <td>southwest</td>\n",
       "      <td>16884.92400</td>\n",
       "    </tr>\n",
       "    <tr>\n",
       "      <th>1</th>\n",
       "      <td>18</td>\n",
       "      <td>male</td>\n",
       "      <td>33.770</td>\n",
       "      <td>1</td>\n",
       "      <td>no</td>\n",
       "      <td>southeast</td>\n",
       "      <td>1725.55230</td>\n",
       "    </tr>\n",
       "    <tr>\n",
       "      <th>2</th>\n",
       "      <td>28</td>\n",
       "      <td>male</td>\n",
       "      <td>33.000</td>\n",
       "      <td>3</td>\n",
       "      <td>no</td>\n",
       "      <td>southeast</td>\n",
       "      <td>4449.46200</td>\n",
       "    </tr>\n",
       "    <tr>\n",
       "      <th>3</th>\n",
       "      <td>33</td>\n",
       "      <td>male</td>\n",
       "      <td>22.705</td>\n",
       "      <td>0</td>\n",
       "      <td>no</td>\n",
       "      <td>northwest</td>\n",
       "      <td>21984.47061</td>\n",
       "    </tr>\n",
       "    <tr>\n",
       "      <th>4</th>\n",
       "      <td>32</td>\n",
       "      <td>male</td>\n",
       "      <td>28.880</td>\n",
       "      <td>0</td>\n",
       "      <td>no</td>\n",
       "      <td>northwest</td>\n",
       "      <td>3866.85520</td>\n",
       "    </tr>\n",
       "  </tbody>\n",
       "</table>\n",
       "</div>"
      ],
      "text/plain": [
       "   age     sex     bmi  children smoker     region      charges\n",
       "0   19  female  27.900         0    yes  southwest  16884.92400\n",
       "1   18    male  33.770         1     no  southeast   1725.55230\n",
       "2   28    male  33.000         3     no  southeast   4449.46200\n",
       "3   33    male  22.705         0     no  northwest  21984.47061\n",
       "4   32    male  28.880         0     no  northwest   3866.85520"
      ]
     },
     "execution_count": 135,
     "metadata": {},
     "output_type": "execute_result"
    }
   ],
   "source": [
    "data=pd.read_csv('C:\\\\Users\\\\Vibhor Tyagi\\\\Desktop\\\\Data Science\\\\insurance.csv')\n",
    "data.head(5)"
   ]
  },
  {
   "cell_type": "code",
   "execution_count": 136,
   "metadata": {},
   "outputs": [
    {
     "name": "stdout",
     "output_type": "stream",
     "text": [
      "<class 'pandas.core.frame.DataFrame'>\n",
      "RangeIndex: 1338 entries, 0 to 1337\n",
      "Data columns (total 7 columns):\n",
      "age         1338 non-null int64\n",
      "sex         1338 non-null object\n",
      "bmi         1338 non-null float64\n",
      "children    1338 non-null int64\n",
      "smoker      1338 non-null object\n",
      "region      1338 non-null object\n",
      "charges     1338 non-null float64\n",
      "dtypes: float64(2), int64(2), object(3)\n",
      "memory usage: 73.2+ KB\n"
     ]
    }
   ],
   "source": [
    "data.info()"
   ]
  },
  {
   "cell_type": "code",
   "execution_count": 137,
   "metadata": {
    "scrolled": true
   },
   "outputs": [
    {
     "data": {
      "text/html": [
       "<div>\n",
       "<style scoped>\n",
       "    .dataframe tbody tr th:only-of-type {\n",
       "        vertical-align: middle;\n",
       "    }\n",
       "\n",
       "    .dataframe tbody tr th {\n",
       "        vertical-align: top;\n",
       "    }\n",
       "\n",
       "    .dataframe thead th {\n",
       "        text-align: right;\n",
       "    }\n",
       "</style>\n",
       "<table border=\"1\" class=\"dataframe\">\n",
       "  <thead>\n",
       "    <tr style=\"text-align: right;\">\n",
       "      <th></th>\n",
       "      <th>age</th>\n",
       "      <th>sex</th>\n",
       "      <th>bmi</th>\n",
       "      <th>children</th>\n",
       "      <th>smoker</th>\n",
       "      <th>region</th>\n",
       "      <th>charges</th>\n",
       "      <th>female</th>\n",
       "      <th>male</th>\n",
       "      <th>no</th>\n",
       "      <th>yes</th>\n",
       "      <th>northeast</th>\n",
       "      <th>northwest</th>\n",
       "      <th>southeast</th>\n",
       "      <th>southwest</th>\n",
       "    </tr>\n",
       "  </thead>\n",
       "  <tbody>\n",
       "    <tr>\n",
       "      <th>0</th>\n",
       "      <td>19</td>\n",
       "      <td>female</td>\n",
       "      <td>27.900</td>\n",
       "      <td>0</td>\n",
       "      <td>yes</td>\n",
       "      <td>southwest</td>\n",
       "      <td>16884.92400</td>\n",
       "      <td>1</td>\n",
       "      <td>0</td>\n",
       "      <td>0</td>\n",
       "      <td>1</td>\n",
       "      <td>0</td>\n",
       "      <td>0</td>\n",
       "      <td>0</td>\n",
       "      <td>1</td>\n",
       "    </tr>\n",
       "    <tr>\n",
       "      <th>1</th>\n",
       "      <td>18</td>\n",
       "      <td>male</td>\n",
       "      <td>33.770</td>\n",
       "      <td>1</td>\n",
       "      <td>no</td>\n",
       "      <td>southeast</td>\n",
       "      <td>1725.55230</td>\n",
       "      <td>0</td>\n",
       "      <td>1</td>\n",
       "      <td>1</td>\n",
       "      <td>0</td>\n",
       "      <td>0</td>\n",
       "      <td>0</td>\n",
       "      <td>1</td>\n",
       "      <td>0</td>\n",
       "    </tr>\n",
       "    <tr>\n",
       "      <th>2</th>\n",
       "      <td>28</td>\n",
       "      <td>male</td>\n",
       "      <td>33.000</td>\n",
       "      <td>3</td>\n",
       "      <td>no</td>\n",
       "      <td>southeast</td>\n",
       "      <td>4449.46200</td>\n",
       "      <td>0</td>\n",
       "      <td>1</td>\n",
       "      <td>1</td>\n",
       "      <td>0</td>\n",
       "      <td>0</td>\n",
       "      <td>0</td>\n",
       "      <td>1</td>\n",
       "      <td>0</td>\n",
       "    </tr>\n",
       "    <tr>\n",
       "      <th>3</th>\n",
       "      <td>33</td>\n",
       "      <td>male</td>\n",
       "      <td>22.705</td>\n",
       "      <td>0</td>\n",
       "      <td>no</td>\n",
       "      <td>northwest</td>\n",
       "      <td>21984.47061</td>\n",
       "      <td>0</td>\n",
       "      <td>1</td>\n",
       "      <td>1</td>\n",
       "      <td>0</td>\n",
       "      <td>0</td>\n",
       "      <td>1</td>\n",
       "      <td>0</td>\n",
       "      <td>0</td>\n",
       "    </tr>\n",
       "    <tr>\n",
       "      <th>4</th>\n",
       "      <td>32</td>\n",
       "      <td>male</td>\n",
       "      <td>28.880</td>\n",
       "      <td>0</td>\n",
       "      <td>no</td>\n",
       "      <td>northwest</td>\n",
       "      <td>3866.85520</td>\n",
       "      <td>0</td>\n",
       "      <td>1</td>\n",
       "      <td>1</td>\n",
       "      <td>0</td>\n",
       "      <td>0</td>\n",
       "      <td>1</td>\n",
       "      <td>0</td>\n",
       "      <td>0</td>\n",
       "    </tr>\n",
       "  </tbody>\n",
       "</table>\n",
       "</div>"
      ],
      "text/plain": [
       "   age     sex     bmi  children smoker     region      charges  female  male  \\\n",
       "0   19  female  27.900         0    yes  southwest  16884.92400       1     0   \n",
       "1   18    male  33.770         1     no  southeast   1725.55230       0     1   \n",
       "2   28    male  33.000         3     no  southeast   4449.46200       0     1   \n",
       "3   33    male  22.705         0     no  northwest  21984.47061       0     1   \n",
       "4   32    male  28.880         0     no  northwest   3866.85520       0     1   \n",
       "\n",
       "   no  yes  northeast  northwest  southeast  southwest  \n",
       "0   0    1          0          0          0          1  \n",
       "1   1    0          0          0          1          0  \n",
       "2   1    0          0          0          1          0  \n",
       "3   1    0          0          1          0          0  \n",
       "4   1    0          0          1          0          0  "
      ]
     },
     "execution_count": 137,
     "metadata": {},
     "output_type": "execute_result"
    }
   ],
   "source": [
    "data=data.join(pd.get_dummies(data['sex']))\n",
    "data=data.join(pd.get_dummies(data['smoker']))\n",
    "data=data.join(pd.get_dummies(data['region']))\n",
    "data.head(5)"
   ]
  },
  {
   "cell_type": "code",
   "execution_count": 138,
   "metadata": {},
   "outputs": [
    {
     "data": {
      "text/html": [
       "<div>\n",
       "<style scoped>\n",
       "    .dataframe tbody tr th:only-of-type {\n",
       "        vertical-align: middle;\n",
       "    }\n",
       "\n",
       "    .dataframe tbody tr th {\n",
       "        vertical-align: top;\n",
       "    }\n",
       "\n",
       "    .dataframe thead th {\n",
       "        text-align: right;\n",
       "    }\n",
       "</style>\n",
       "<table border=\"1\" class=\"dataframe\">\n",
       "  <thead>\n",
       "    <tr style=\"text-align: right;\">\n",
       "      <th></th>\n",
       "      <th>age</th>\n",
       "      <th>bmi</th>\n",
       "      <th>children</th>\n",
       "      <th>male</th>\n",
       "      <th>yes</th>\n",
       "      <th>northeast</th>\n",
       "      <th>northwest</th>\n",
       "      <th>southeast</th>\n",
       "      <th>southwest</th>\n",
       "      <th>charges</th>\n",
       "    </tr>\n",
       "  </thead>\n",
       "  <tbody>\n",
       "    <tr>\n",
       "      <th>0</th>\n",
       "      <td>19</td>\n",
       "      <td>27.900</td>\n",
       "      <td>0</td>\n",
       "      <td>0</td>\n",
       "      <td>1</td>\n",
       "      <td>0</td>\n",
       "      <td>0</td>\n",
       "      <td>0</td>\n",
       "      <td>1</td>\n",
       "      <td>16884.92400</td>\n",
       "    </tr>\n",
       "    <tr>\n",
       "      <th>1</th>\n",
       "      <td>18</td>\n",
       "      <td>33.770</td>\n",
       "      <td>1</td>\n",
       "      <td>1</td>\n",
       "      <td>0</td>\n",
       "      <td>0</td>\n",
       "      <td>0</td>\n",
       "      <td>1</td>\n",
       "      <td>0</td>\n",
       "      <td>1725.55230</td>\n",
       "    </tr>\n",
       "    <tr>\n",
       "      <th>2</th>\n",
       "      <td>28</td>\n",
       "      <td>33.000</td>\n",
       "      <td>3</td>\n",
       "      <td>1</td>\n",
       "      <td>0</td>\n",
       "      <td>0</td>\n",
       "      <td>0</td>\n",
       "      <td>1</td>\n",
       "      <td>0</td>\n",
       "      <td>4449.46200</td>\n",
       "    </tr>\n",
       "    <tr>\n",
       "      <th>3</th>\n",
       "      <td>33</td>\n",
       "      <td>22.705</td>\n",
       "      <td>0</td>\n",
       "      <td>1</td>\n",
       "      <td>0</td>\n",
       "      <td>0</td>\n",
       "      <td>1</td>\n",
       "      <td>0</td>\n",
       "      <td>0</td>\n",
       "      <td>21984.47061</td>\n",
       "    </tr>\n",
       "    <tr>\n",
       "      <th>4</th>\n",
       "      <td>32</td>\n",
       "      <td>28.880</td>\n",
       "      <td>0</td>\n",
       "      <td>1</td>\n",
       "      <td>0</td>\n",
       "      <td>0</td>\n",
       "      <td>1</td>\n",
       "      <td>0</td>\n",
       "      <td>0</td>\n",
       "      <td>3866.85520</td>\n",
       "    </tr>\n",
       "  </tbody>\n",
       "</table>\n",
       "</div>"
      ],
      "text/plain": [
       "   age     bmi  children  male  yes  northeast  northwest  southeast  \\\n",
       "0   19  27.900         0     0    1          0          0          0   \n",
       "1   18  33.770         1     1    0          0          0          1   \n",
       "2   28  33.000         3     1    0          0          0          1   \n",
       "3   33  22.705         0     1    0          0          1          0   \n",
       "4   32  28.880         0     1    0          0          1          0   \n",
       "\n",
       "   southwest      charges  \n",
       "0          1  16884.92400  \n",
       "1          0   1725.55230  \n",
       "2          0   4449.46200  \n",
       "3          0  21984.47061  \n",
       "4          0   3866.85520  "
      ]
     },
     "execution_count": 138,
     "metadata": {},
     "output_type": "execute_result"
    }
   ],
   "source": [
    "data=data.drop(columns=\"sex\")\n",
    "data=data.drop(columns=\"smoker\")\n",
    "data=data.drop(columns=\"region\")\n",
    "data1=data[\"charges\"]\n",
    "data=data.drop(columns=\"charges\")\n",
    "data=data.join(data1)\n",
    "data=data.drop(columns=\"female\")\n",
    "data=data.drop(columns=\"no\")\n",
    "data.head(5)"
   ]
  },
  {
   "cell_type": "markdown",
   "metadata": {},
   "source": [
    "# DATA VISUALIZATION"
   ]
  },
  {
   "cell_type": "code",
   "execution_count": 139,
   "metadata": {},
   "outputs": [
    {
     "data": {
      "text/plain": [
       "<matplotlib.axes._subplots.AxesSubplot at 0x177db566be0>"
      ]
     },
     "execution_count": 139,
     "metadata": {},
     "output_type": "execute_result"
    },
    {
     "data": {
      "image/png": "[encoded data removed]",
      "text/plain": [
       "<Figure size 432x288 with 1 Axes>"
      ]
     },
     "metadata": {
      "needs_background": "light"
     },
     "output_type": "display_data"
    }
   ],
   "source": [
    "#relation of \"age\" with \"charges\"\n",
    "sns.lineplot(x=data['age'],y=data['charges'],hue=True)\n",
    "sns.scatterplot(x=data['age'],y=data['charges'])\n",
    "\n",
    "# GOOD ATTRIBUTE"
   ]
  },
  {
   "cell_type": "code",
   "execution_count": 140,
   "metadata": {},
   "outputs": [
    {
     "data": {
      "text/plain": [
       "<matplotlib.axes._subplots.AxesSubplot at 0x177db621a58>"
      ]
     },
     "execution_count": 140,
     "metadata": {},
     "output_type": "execute_result"
    },
    {
     "data": {
      "image/png": "[encoded data removed]",
      "text/plain": [
       "<Figure size 432x288 with 1 Axes>"
      ]
     },
     "metadata": {
      "needs_background": "light"
     },
     "output_type": "display_data"
    }
   ],
   "source": [
    "#relation of \"male\" with \"charges\"\n",
    "sns.barplot(x=data['male'],y=data['charges'])\n",
    "sns.lineplot(x=data['male'],y=data['charges'])\n",
    "sns.scatterplot(x=data['male'],y=data['charges'])"
   ]
  },
  {
   "cell_type": "code",
   "execution_count": 141,
   "metadata": {},
   "outputs": [
    {
     "data": {
      "text/plain": [
       "<matplotlib.axes._subplots.AxesSubplot at 0x177db6508d0>"
      ]
     },
     "execution_count": 141,
     "metadata": {},
     "output_type": "execute_result"
    },
    {
     "data": {
      "image/png": "[encoded data removed]",
      "text/plain": [
       "<Figure size 432x288 with 1 Axes>"
      ]
     },
     "metadata": {
      "needs_background": "light"
     },
     "output_type": "display_data"
    }
   ],
   "source": [
    "#relation of \"bmi\" with \"charges\"\n",
    "sns.scatterplot(x=data['bmi'],y=data['charges'],hue=True)\n",
    "sns.lineplot(x=data['bmi'],y=data['charges'])\n",
    "\n",
    "#NOT A GOOD ATTRIBUTE"
   ]
  },
  {
   "cell_type": "code",
   "execution_count": 132,
   "metadata": {},
   "outputs": [
    {
     "data": {
      "text/plain": [
       "<matplotlib.axes._subplots.AxesSubplot at 0x177db460f28>"
      ]
     },
     "execution_count": 132,
     "metadata": {},
     "output_type": "execute_result"
    },
    {
     "data": {
      "image/png": "[encoded data removed]",
      "text/plain": [
       "<Figure size 432x288 with 1 Axes>"
      ]
     },
     "metadata": {
      "needs_background": "light"
     },
     "output_type": "display_data"
    }
   ],
   "source": [
    "#relation of \"children\" with \"charges\"\n",
    "sns.barplot(x=data['children'],y=data['charges'])\n",
    "sns.lineplot(x=data['children'],y=data['charges'])\n",
    "sns.scatterplot(x=data['children'],y=data['charges'])\n",
    "\n",
    "#NOT A GOOD ATTRIBUTE"
   ]
  },
  {
   "cell_type": "code",
   "execution_count": 122,
   "metadata": {},
   "outputs": [
    {
     "data": {
      "text/plain": [
       "<matplotlib.axes._subplots.AxesSubplot at 0x177db355fd0>"
      ]
     },
     "execution_count": 122,
     "metadata": {},
     "output_type": "execute_result"
    },
    {
     "data": {
      "image/png": "[encoded data removed]",
      "text/plain": [
       "<Figure size 432x288 with 1 Axes>"
      ]
     },
     "metadata": {
      "needs_background": "light"
     },
     "output_type": "display_data"
    }
   ],
   "source": [
    "#Relation with smoker(\"yes\") with \"charges\"\n",
    "sns.barplot(x=data['yes'],y=data['charges'])\n",
    "sns.lineplot(x=data['yes'],y=data['charges'])\n",
    "sns.scatterplot(x=data['yes'],y=data['charges'])\n",
    "\n",
    "#GOOD ATTRIBUTE"
   ]
  },
  {
   "cell_type": "code",
   "execution_count": 147,
   "metadata": {},
   "outputs": [],
   "source": [
    "# Relation with 'sex'and 'bmi' are NOT GOOD ATTEIBUTES\n",
    "# Relation with 'smoker','age',children' may be GOOD ATTRIBUTES.\n",
    "# We can check the relationship of regions with charges by label encoding it and then forming a bar, line and scatterplot \n",
    "# for it to see if any dependecy among them lies."
   ]
  },
  {
   "cell_type": "markdown",
   "metadata": {},
   "source": [
    "# REGRESSION MODEL"
   ]
  },
  {
   "cell_type": "markdown",
   "metadata": {},
   "source": [
    "For Linear Regression, we need to check if the 5 major assumptions hold.\n",
    "\n",
    "1. No Auto correlation\n",
    "2. Linearity of variables\n",
    "3. Normality of error terms\n",
    "4. No Heteroscedacity\n",
    "5. No strong MultiCollinearity"
   ]
  },
  {
   "cell_type": "markdown",
   "metadata": {},
   "source": [
    "# 1st ATTEMPT : TAKING ALL THE ATTRIBUTES"
   ]
  },
  {
   "cell_type": "code",
   "execution_count": 148,
   "metadata": {},
   "outputs": [],
   "source": [
    "#divide the values into a and b\n",
    "array=data.values\n",
    "a=array[:,0:9]\n",
    "b=array[:,9:10]"
   ]
  },
  {
   "cell_type": "code",
   "execution_count": 155,
   "metadata": {},
   "outputs": [
    {
     "data": {
      "text/plain": [
       "numpy.ndarray"
      ]
     },
     "execution_count": 155,
     "metadata": {},
     "output_type": "execute_result"
    }
   ],
   "source": [
    "test_size=0.20\n",
    "seed=7\n",
    "X_train,X_test,Y_train,Y_test = train_test_split(a,b,test_size = test_size,  random_state=seed)\n",
    "type(X_train)"
   ]
  },
  {
   "cell_type": "code",
   "execution_count": 156,
   "metadata": {
    "scrolled": true
   },
   "outputs": [
    {
     "name": "stdout",
     "output_type": "stream",
     "text": [
      "Accuracy percentage: 76.38170729823929\n"
     ]
    }
   ],
   "source": [
    "#fit the model on 20%\n",
    "model = LinearRegression()\n",
    "model.fit(X_train, Y_train)\n",
    "Y_predict=model.predict(X_test)\n",
    "\n",
    "print(\"Accuracy percentage:\",model.score(X_test,Y_test)*100)"
   ]
  },
  {
   "cell_type": "markdown",
   "metadata": {},
   "source": [
    "# 2nd ATTEMPT : CHOOSING ONLY GOOD ATTRIBUTES"
   ]
  },
  {
   "cell_type": "code",
   "execution_count": 158,
   "metadata": {},
   "outputs": [
    {
     "data": {
      "text/html": [
       "<div>\n",
       "<style scoped>\n",
       "    .dataframe tbody tr th:only-of-type {\n",
       "        vertical-align: middle;\n",
       "    }\n",
       "\n",
       "    .dataframe tbody tr th {\n",
       "        vertical-align: top;\n",
       "    }\n",
       "\n",
       "    .dataframe thead th {\n",
       "        text-align: right;\n",
       "    }\n",
       "</style>\n",
       "<table border=\"1\" class=\"dataframe\">\n",
       "  <thead>\n",
       "    <tr style=\"text-align: right;\">\n",
       "      <th></th>\n",
       "      <th>age</th>\n",
       "      <th>bmi</th>\n",
       "      <th>children</th>\n",
       "      <th>male</th>\n",
       "      <th>yes</th>\n",
       "      <th>northeast</th>\n",
       "      <th>northwest</th>\n",
       "      <th>southeast</th>\n",
       "      <th>southwest</th>\n",
       "      <th>charges</th>\n",
       "    </tr>\n",
       "  </thead>\n",
       "  <tbody>\n",
       "    <tr>\n",
       "      <th>0</th>\n",
       "      <td>19</td>\n",
       "      <td>27.900</td>\n",
       "      <td>0</td>\n",
       "      <td>0</td>\n",
       "      <td>1</td>\n",
       "      <td>0</td>\n",
       "      <td>0</td>\n",
       "      <td>0</td>\n",
       "      <td>1</td>\n",
       "      <td>16884.92400</td>\n",
       "    </tr>\n",
       "    <tr>\n",
       "      <th>1</th>\n",
       "      <td>18</td>\n",
       "      <td>33.770</td>\n",
       "      <td>1</td>\n",
       "      <td>1</td>\n",
       "      <td>0</td>\n",
       "      <td>0</td>\n",
       "      <td>0</td>\n",
       "      <td>1</td>\n",
       "      <td>0</td>\n",
       "      <td>1725.55230</td>\n",
       "    </tr>\n",
       "    <tr>\n",
       "      <th>2</th>\n",
       "      <td>28</td>\n",
       "      <td>33.000</td>\n",
       "      <td>3</td>\n",
       "      <td>1</td>\n",
       "      <td>0</td>\n",
       "      <td>0</td>\n",
       "      <td>0</td>\n",
       "      <td>1</td>\n",
       "      <td>0</td>\n",
       "      <td>4449.46200</td>\n",
       "    </tr>\n",
       "    <tr>\n",
       "      <th>3</th>\n",
       "      <td>33</td>\n",
       "      <td>22.705</td>\n",
       "      <td>0</td>\n",
       "      <td>1</td>\n",
       "      <td>0</td>\n",
       "      <td>0</td>\n",
       "      <td>1</td>\n",
       "      <td>0</td>\n",
       "      <td>0</td>\n",
       "      <td>21984.47061</td>\n",
       "    </tr>\n",
       "    <tr>\n",
       "      <th>4</th>\n",
       "      <td>32</td>\n",
       "      <td>28.880</td>\n",
       "      <td>0</td>\n",
       "      <td>1</td>\n",
       "      <td>0</td>\n",
       "      <td>0</td>\n",
       "      <td>1</td>\n",
       "      <td>0</td>\n",
       "      <td>0</td>\n",
       "      <td>3866.85520</td>\n",
       "    </tr>\n",
       "  </tbody>\n",
       "</table>\n",
       "</div>"
      ],
      "text/plain": [
       "   age     bmi  children  male  yes  northeast  northwest  southeast  \\\n",
       "0   19  27.900         0     0    1          0          0          0   \n",
       "1   18  33.770         1     1    0          0          0          1   \n",
       "2   28  33.000         3     1    0          0          0          1   \n",
       "3   33  22.705         0     1    0          0          1          0   \n",
       "4   32  28.880         0     1    0          0          1          0   \n",
       "\n",
       "   southwest      charges  \n",
       "0          1  16884.92400  \n",
       "1          0   1725.55230  \n",
       "2          0   4449.46200  \n",
       "3          0  21984.47061  \n",
       "4          0   3866.85520  "
      ]
     },
     "execution_count": 158,
     "metadata": {},
     "output_type": "execute_result"
    }
   ],
   "source": [
    "data1=data\n",
    "data1.head(5)"
   ]
  },
  {
   "cell_type": "code",
   "execution_count": 160,
   "metadata": {},
   "outputs": [
    {
     "data": {
      "text/html": [
       "<div>\n",
       "<style scoped>\n",
       "    .dataframe tbody tr th:only-of-type {\n",
       "        vertical-align: middle;\n",
       "    }\n",
       "\n",
       "    .dataframe tbody tr th {\n",
       "        vertical-align: top;\n",
       "    }\n",
       "\n",
       "    .dataframe thead th {\n",
       "        text-align: right;\n",
       "    }\n",
       "</style>\n",
       "<table border=\"1\" class=\"dataframe\">\n",
       "  <thead>\n",
       "    <tr style=\"text-align: right;\">\n",
       "      <th></th>\n",
       "      <th>age</th>\n",
       "      <th>yes</th>\n",
       "      <th>children</th>\n",
       "      <th>charges</th>\n",
       "    </tr>\n",
       "  </thead>\n",
       "  <tbody>\n",
       "    <tr>\n",
       "      <th>0</th>\n",
       "      <td>19</td>\n",
       "      <td>1</td>\n",
       "      <td>0</td>\n",
       "      <td>16884.924</td>\n",
       "    </tr>\n",
       "  </tbody>\n",
       "</table>\n",
       "</div>"
      ],
      "text/plain": [
       "   age  yes  children    charges\n",
       "0   19    1         0  16884.924"
      ]
     },
     "execution_count": 160,
     "metadata": {},
     "output_type": "execute_result"
    }
   ],
   "source": [
    "df=pd.DataFrame(data1['age'])\n",
    "df1=pd.DataFrame(data1['yes'])\n",
    "df2=pd.DataFrame(data1['children'])\n",
    "df4=pd.DataFrame(data1['charges'])\n",
    "df=df.join(df1)\n",
    "df=df.join(df2) \n",
    "df=df.join(df4)\n",
    "df.head(1)"
   ]
  },
  {
   "cell_type": "code",
   "execution_count": 166,
   "metadata": {},
   "outputs": [],
   "source": [
    "arr=df.values\n",
    "p=arr[:,0:3]\n",
    "q=arr[:,3:4]"
   ]
  },
  {
   "cell_type": "code",
   "execution_count": 167,
   "metadata": {},
   "outputs": [
    {
     "data": {
      "text/plain": [
       "numpy.ndarray"
      ]
     },
     "execution_count": 167,
     "metadata": {},
     "output_type": "execute_result"
    }
   ],
   "source": [
    "test_size=0.20\n",
    "seed=7\n",
    "x_train,x_test,y_train,y_test = train_test_split(p,q,test_size = test_size,  random_state=seed)\n",
    "type(x_train)"
   ]
  },
  {
   "cell_type": "code",
   "execution_count": 168,
   "metadata": {},
   "outputs": [
    {
     "name": "stdout",
     "output_type": "stream",
     "text": [
      "0.745980028871786\n"
     ]
    }
   ],
   "source": [
    "#fit the model on 20%\n",
    "model1 = LinearRegression()\n",
    "model1.fit(x_train,y_train)\n",
    "y_predict=model1.predict(x_test)\n",
    "model_scr = model1.score(x_test,y_test)\n",
    "print(model_scr)"
   ]
  },
  {
   "cell_type": "markdown",
   "metadata": {},
   "source": [
    "# 3rd ATTEMPT : Using XGBOOST Regressor "
   ]
  },
  {
   "cell_type": "code",
   "execution_count": 169,
   "metadata": {},
   "outputs": [],
   "source": [
    "from xgboost import XGBRegressor"
   ]
  },
  {
   "cell_type": "code",
   "execution_count": 170,
   "metadata": {
    "scrolled": true
   },
   "outputs": [
    {
     "name": "stdout",
     "output_type": "stream",
     "text": [
      "[19:30:08] WARNING: src/objective/regression_obj.cu:152: reg:linear is now deprecated in favor of reg:squarederror.\n"
     ]
    },
    {
     "data": {
      "text/plain": [
       "XGBRegressor(base_score=0.5, booster='gbtree', colsample_bylevel=1,\n",
       "             colsample_bynode=1, colsample_bytree=1, gamma=0,\n",
       "             importance_type='gain', learning_rate=0.1, max_delta_step=0,\n",
       "             max_depth=3, min_child_weight=1, missing=None, n_estimators=100,\n",
       "             n_jobs=1, nthread=None, objective='reg:linear', random_state=0,\n",
       "             reg_alpha=0, reg_lambda=1, scale_pos_weight=1, seed=None,\n",
       "             silent=None, subsample=1, verbosity=1)"
      ]
     },
     "execution_count": 170,
     "metadata": {},
     "output_type": "execute_result"
    }
   ],
   "source": [
    "# fit model no training data\n",
    "model3 = XGBRegressor()\n",
    "model3.fit(X_train, Y_train)"
   ]
  },
  {
   "cell_type": "code",
   "execution_count": 171,
   "metadata": {},
   "outputs": [
    {
     "data": {
      "text/plain": [
       "array([12651.683 , 10325.342 ,  2018.0731, 17031.973 , 12689.84  ,\n",
       "        2031.4194, 16892.488 ,  8355.098 ,  4563.221 ,  9366.806 ,\n",
       "        5379.85  ,  6775.36  ,  4931.7666,  4306.339 , 12849.205 ,\n",
       "       10728.396 ,  4968.805 , 15323.26  , 11692.09  , 10737.871 ,\n",
       "        6489.1816,  4380.1123, 38485.004 , 24324.205 , 18746.002 ,\n",
       "       21837.299 , 45122.664 , 39150.156 ,  8136.5605,  7978.5474,\n",
       "       12965.773 , 22335.375 ,  5453.7227, 12392.89  , 12663.999 ,\n",
       "        2573.153 ,  6370.196 ,  5783.518 ,  9681.111 ,  2740.406 ,\n",
       "        8641.899 ,  6227.7754,  8538.7705,  7666.568 ,  6593.914 ,\n",
       "        6098.812 ,  6098.572 , 45043.375 , 23894.62  , 14221.549 ,\n",
       "        8730.181 , 20953.914 ,  9130.423 ,  9523.5625,  3216.708 ,\n",
       "       42037.016 , 27059.848 , 10333.94  ,  4525.2485,  4080.478 ,\n",
       "        8177.7275, 14495.513 ,  9945.148 , 15215.787 ,  6859.4116,\n",
       "       32323.148 , 14892.284 ,  2916.9165, 47075.426 ,  3720.688 ,\n",
       "       25061.684 ,  7603.96  ,  5618.589 , 46762.895 ,  5095.2114,\n",
       "       23834.078 , 10228.2295, 13183.451 , 12102.858 ,  8158.256 ,\n",
       "        6888.4307,  9333.647 , 16196.557 ,  4988.318 ,  9311.545 ,\n",
       "        6241.345 , 13857.987 ,  7528.5986,  8316.775 , 43461.555 ,\n",
       "       12815.417 , 10034.389 , 11999.037 , 46906.23  ,  5667.8174,\n",
       "       14116.739 , 13545.238 ,  3030.7065, 36718.55  , 12787.731 ,\n",
       "        5472.547 , 14546.569 , 12731.634 ,  9623.021 ,  7211.25  ,\n",
       "        9075.085 ,  7059.214 , 28029.902 ,  8700.923 ,  4303.885 ,\n",
       "        6690.218 ,  8247.943 ,  4386.1787, 44562.16  ,  4327.896 ,\n",
       "        3378.481 , 12934.928 , 12504.629 ,  2951.0242,  7420.2803,\n",
       "       34763.55  , 15322.36  , 10975.151 ,  9584.48  ,  2548.2278,\n",
       "       13888.632 , 10264.01  , 45930.195 , 11170.147 ,  5859.9414,\n",
       "        8871.795 , 24362.455 ,  7265.1064, 10898.181 , 42770.098 ,\n",
       "       43911.69  ,  9902.303 ,  4447.34  ,  7682.9946, 12665.171 ,\n",
       "       13956.501 ,  7697.6562, 14484.303 , 10490.055 , 34990.504 ,\n",
       "        8995.4375,  8844.938 , 35428.52  ,  7206.884 ,  9701.856 ,\n",
       "        9002.318 , 14750.005 ,  3386.7344, 10230.903 ,  6238.9424,\n",
       "        4543.0537,  9849.716 ,  3620.9714,  7550.4233,  8730.181 ,\n",
       "       37816.832 , 13018.511 , 13952.516 ,  7009.836 ,  7929.781 ,\n",
       "       14260.413 ,  2522.55  ,  7252.6294,  9166.962 , 28004.777 ,\n",
       "        7043.112 , 46240.85  ,  5447.046 ,  2584.627 ,  3801.715 ,\n",
       "       11122.072 , 15623.26  , 13926.75  , 13293.278 ,  6239.5957,\n",
       "        5542.207 ,  8204.428 ,  7142.304 , 15785.579 ,  9849.716 ,\n",
       "       10264.01  , 14456.848 , 21254.07  ,  6358.517 , 10034.389 ,\n",
       "        3941.6152, 20894.523 ,  6800.8154,  8440.632 , 12827.519 ,\n",
       "       12199.447 , 23697.371 ,  7865.9536, 13583.994 ,  6125.8696,\n",
       "       13042.14  ,  9404.128 ,  9373.532 ,  6564.7207,  7826.2104,\n",
       "        9190.216 ,  6433.1855,  3231.1426,  4825.278 , 12581.901 ,\n",
       "        7146.646 ,  3306.1575,  5380.955 ,  4832.2744, 13079.984 ,\n",
       "        6985.52  ,  8242.132 , 11792.591 , 45782.63  , 12362.076 ,\n",
       "       22776.002 , 13659.71  , 13571.15  ,  6264.2476, 38843.016 ,\n",
       "        3194.834 , 47185.4   , 42791.035 , 46217.33  ,  9216.449 ,\n",
       "        5137.847 , 15625.988 , 39304.848 , 47650.7   ,  3284.2021,\n",
       "        4439.6865, 13080.689 ,  2463.3079, 13015.726 ,  2408.9487,\n",
       "        5099.597 ,  6730.0483,  2833.527 , 41128.773 ,  8363.984 ,\n",
       "        7525.392 ,  9910.29  , 42854.234 ,  3213.576 ,  3981.3638,\n",
       "       10487.594 ,  8843.85  , 13059.453 , 36913.32  ,  3101.4353,\n",
       "        7462.898 ,  6987.3687, 15333.138 ,  7713.7603, 38892.125 ,\n",
       "        9443.499 ,  6972.428 ,  7653.576 , 42479.26  ,  5797.4863,\n",
       "       13387.244 ,  5611.736 ,  7065.1987], dtype=float32)"
      ]
     },
     "execution_count": 171,
     "metadata": {},
     "output_type": "execute_result"
    }
   ],
   "source": [
    "predictions = model3.predict(X_test)\n",
    "predictions"
   ]
  },
  {
   "cell_type": "code",
   "execution_count": 172,
   "metadata": {},
   "outputs": [
    {
     "name": "stdout",
     "output_type": "stream",
     "text": [
      "Using XGBoost accuracy is(in percentage): 89.80592917356502\n"
     ]
    }
   ],
   "source": [
    "print(\"Using XGBoost accuracy is(in percentage):\", model3.score(X_train,Y_train)*100)"
   ]
  }
 ],
 "metadata": {
  "kernelspec": {
   "display_name": "Python 3",
   "language": "python",
   "name": "python3"
  },
  "language_info": {
   "codemirror_mode": {
    "name": "ipython",
    "version": 3
   },
   "file_extension": ".py",
   "mimetype": "text/x-python",
   "name": "python",
   "nbconvert_exporter": "python",
   "pygments_lexer": "ipython3",
   "version": "3.7.3"
  }
 },
 "nbformat": 4,
 "nbformat_minor": 2
}
