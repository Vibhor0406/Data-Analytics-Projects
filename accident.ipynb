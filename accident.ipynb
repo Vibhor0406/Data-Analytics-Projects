{
 "cells": [
  {
   "cell_type": "code",
   "execution_count": 338,
   "metadata": {},
   "outputs": [],
   "source": [
    "import numpy as np\n",
    "import pandas as pd\n",
    "\n",
    "# Data visualization\n",
    "import seaborn as sns\n",
    "import matplotlib as mp\n",
    "import matplotlib.pyplot as plt\n",
    "\n",
    "# ML Algorithms\n",
    "from sklearn.linear_model import LogisticRegression\n",
    "from sklearn.tree import DecisionTreeClassifier # Import Decision Tree Classifier\n",
    "from sklearn import metrics #Import scikit-learn metrics module for accuracy calculation\n",
    "from sklearn.model_selection import train_test_split\n",
    "from scipy import stats\n",
    "from sklearn import preprocessing "
   ]
  },
  {
   "cell_type": "code",
   "execution_count": 381,
   "metadata": {},
   "outputs": [
    {
     "data": {
      "text/html": [
       "<div>\n",
       "<style scoped>\n",
       "    .dataframe tbody tr th:only-of-type {\n",
       "        vertical-align: middle;\n",
       "    }\n",
       "\n",
       "    .dataframe tbody tr th {\n",
       "        vertical-align: top;\n",
       "    }\n",
       "\n",
       "    .dataframe thead th {\n",
       "        text-align: right;\n",
       "    }\n",
       "</style>\n",
       "<table border=\"1\" class=\"dataframe\">\n",
       "  <thead>\n",
       "    <tr style=\"text-align: right;\">\n",
       "      <th></th>\n",
       "      <th>Unnamed: 0</th>\n",
       "      <th>code</th>\n",
       "      <th>clientType</th>\n",
       "      <th>registrationMode</th>\n",
       "      <th>planName</th>\n",
       "      <th>accident</th>\n",
       "      <th>duration</th>\n",
       "      <th>country</th>\n",
       "      <th>netSales</th>\n",
       "      <th>netProfit</th>\n",
       "      <th>gender</th>\n",
       "      <th>age</th>\n",
       "    </tr>\n",
       "  </thead>\n",
       "  <tbody>\n",
       "    <tr>\n",
       "      <th>0</th>\n",
       "      <td>1</td>\n",
       "      <td>CBH</td>\n",
       "      <td>Basic</td>\n",
       "      <td>Offline</td>\n",
       "      <td>M</td>\n",
       "      <td>0</td>\n",
       "      <td>186</td>\n",
       "      <td>MALAYSIA</td>\n",
       "      <td>-29.0</td>\n",
       "      <td>9.57</td>\n",
       "      <td>F</td>\n",
       "      <td>81</td>\n",
       "    </tr>\n",
       "    <tr>\n",
       "      <th>1</th>\n",
       "      <td>2</td>\n",
       "      <td>CBH</td>\n",
       "      <td>Basic</td>\n",
       "      <td>Offline</td>\n",
       "      <td>M</td>\n",
       "      <td>0</td>\n",
       "      <td>186</td>\n",
       "      <td>MALAYSIA</td>\n",
       "      <td>-29.0</td>\n",
       "      <td>9.57</td>\n",
       "      <td>F</td>\n",
       "      <td>71</td>\n",
       "    </tr>\n",
       "    <tr>\n",
       "      <th>2</th>\n",
       "      <td>3</td>\n",
       "      <td>CWT</td>\n",
       "      <td>Basic</td>\n",
       "      <td>Online</td>\n",
       "      <td>Q</td>\n",
       "      <td>0</td>\n",
       "      <td>65</td>\n",
       "      <td>AUSTRALIA</td>\n",
       "      <td>-49.5</td>\n",
       "      <td>29.70</td>\n",
       "      <td>NaN</td>\n",
       "      <td>32</td>\n",
       "    </tr>\n",
       "    <tr>\n",
       "      <th>3</th>\n",
       "      <td>4</td>\n",
       "      <td>CWT</td>\n",
       "      <td>Basic</td>\n",
       "      <td>Online</td>\n",
       "      <td>Q</td>\n",
       "      <td>0</td>\n",
       "      <td>60</td>\n",
       "      <td>AUSTRALIA</td>\n",
       "      <td>-39.6</td>\n",
       "      <td>23.76</td>\n",
       "      <td>NaN</td>\n",
       "      <td>32</td>\n",
       "    </tr>\n",
       "    <tr>\n",
       "      <th>4</th>\n",
       "      <td>5</td>\n",
       "      <td>CWT</td>\n",
       "      <td>Basic</td>\n",
       "      <td>Online</td>\n",
       "      <td>Q</td>\n",
       "      <td>0</td>\n",
       "      <td>79</td>\n",
       "      <td>ITALY</td>\n",
       "      <td>-19.8</td>\n",
       "      <td>11.88</td>\n",
       "      <td>NaN</td>\n",
       "      <td>41</td>\n",
       "    </tr>\n",
       "    <tr>\n",
       "      <th>5</th>\n",
       "      <td>6</td>\n",
       "      <td>JZI</td>\n",
       "      <td>Premium</td>\n",
       "      <td>Online</td>\n",
       "      <td>Z</td>\n",
       "      <td>0</td>\n",
       "      <td>66</td>\n",
       "      <td>UNITED STATES</td>\n",
       "      <td>-121.0</td>\n",
       "      <td>42.35</td>\n",
       "      <td>F</td>\n",
       "      <td>44</td>\n",
       "    </tr>\n",
       "    <tr>\n",
       "      <th>6</th>\n",
       "      <td>7</td>\n",
       "      <td>CWT</td>\n",
       "      <td>Basic</td>\n",
       "      <td>Online</td>\n",
       "      <td>Q</td>\n",
       "      <td>0</td>\n",
       "      <td>63</td>\n",
       "      <td>AUSTRALIA</td>\n",
       "      <td>-108.9</td>\n",
       "      <td>65.34</td>\n",
       "      <td>NaN</td>\n",
       "      <td>29</td>\n",
       "    </tr>\n",
       "    <tr>\n",
       "      <th>7</th>\n",
       "      <td>8</td>\n",
       "      <td>CWT</td>\n",
       "      <td>Basic</td>\n",
       "      <td>Online</td>\n",
       "      <td>Q</td>\n",
       "      <td>0</td>\n",
       "      <td>57</td>\n",
       "      <td>THAILAND</td>\n",
       "      <td>-19.8</td>\n",
       "      <td>11.88</td>\n",
       "      <td>NaN</td>\n",
       "      <td>44</td>\n",
       "    </tr>\n",
       "    <tr>\n",
       "      <th>8</th>\n",
       "      <td>9</td>\n",
       "      <td>CWT</td>\n",
       "      <td>Basic</td>\n",
       "      <td>Online</td>\n",
       "      <td>Q</td>\n",
       "      <td>0</td>\n",
       "      <td>186</td>\n",
       "      <td>AUSTRALIA</td>\n",
       "      <td>-99.0</td>\n",
       "      <td>59.40</td>\n",
       "      <td>NaN</td>\n",
       "      <td>37</td>\n",
       "    </tr>\n",
       "    <tr>\n",
       "      <th>9</th>\n",
       "      <td>10</td>\n",
       "      <td>JZI</td>\n",
       "      <td>Premium</td>\n",
       "      <td>Online</td>\n",
       "      <td>I</td>\n",
       "      <td>0</td>\n",
       "      <td>33</td>\n",
       "      <td>KOREA, DEMOCRATIC PEOPLE'S REPUBLIC OF</td>\n",
       "      <td>-26.0</td>\n",
       "      <td>9.10</td>\n",
       "      <td>NaN</td>\n",
       "      <td>118</td>\n",
       "    </tr>\n",
       "  </tbody>\n",
       "</table>\n",
       "</div>"
      ],
      "text/plain": [
       "   Unnamed: 0 code clientType registrationMode planName  accident  duration  \\\n",
       "0           1  CBH      Basic          Offline        M         0       186   \n",
       "1           2  CBH      Basic          Offline        M         0       186   \n",
       "2           3  CWT      Basic           Online        Q         0        65   \n",
       "3           4  CWT      Basic           Online        Q         0        60   \n",
       "4           5  CWT      Basic           Online        Q         0        79   \n",
       "5           6  JZI    Premium           Online        Z         0        66   \n",
       "6           7  CWT      Basic           Online        Q         0        63   \n",
       "7           8  CWT      Basic           Online        Q         0        57   \n",
       "8           9  CWT      Basic           Online        Q         0       186   \n",
       "9          10  JZI    Premium           Online        I         0        33   \n",
       "\n",
       "                                  country  netSales  netProfit gender  age  \n",
       "0                                MALAYSIA     -29.0       9.57      F   81  \n",
       "1                                MALAYSIA     -29.0       9.57      F   71  \n",
       "2                               AUSTRALIA     -49.5      29.70    NaN   32  \n",
       "3                               AUSTRALIA     -39.6      23.76    NaN   32  \n",
       "4                                   ITALY     -19.8      11.88    NaN   41  \n",
       "5                           UNITED STATES    -121.0      42.35      F   44  \n",
       "6                               AUSTRALIA    -108.9      65.34    NaN   29  \n",
       "7                                THAILAND     -19.8      11.88    NaN   44  \n",
       "8                               AUSTRALIA     -99.0      59.40    NaN   37  \n",
       "9  KOREA, DEMOCRATIC PEOPLE'S REPUBLIC OF     -26.0       9.10    NaN  118  "
      ]
     },
     "execution_count": 381,
     "metadata": {},
     "output_type": "execute_result"
    }
   ],
   "source": [
    "train=pd.read_csv('C:\\\\Users\\\\Vibhor Tyagi\\\\Desktop\\\\Data Science\\\\Train_data.csv')\n",
    "test=pd.read_csv('C:\\\\Users\\\\Vibhor Tyagi\\\\Desktop\\\\Data Science\\\\Test_data.csv')\n",
    "train.head(10)"
   ]
  },
  {
   "cell_type": "code",
   "execution_count": 340,
   "metadata": {
    "scrolled": false
   },
   "outputs": [
    {
     "name": "stdout",
     "output_type": "stream",
     "text": [
      "<class 'pandas.core.frame.DataFrame'>\n",
      "RangeIndex: 60326 entries, 0 to 60325\n",
      "Data columns (total 12 columns):\n",
      "Unnamed: 0          60326 non-null int64\n",
      "code                60326 non-null object\n",
      "clientType          60326 non-null object\n",
      "registrationMode    60326 non-null object\n",
      "planName            60326 non-null object\n",
      "accident            60326 non-null int64\n",
      "duration            60326 non-null int64\n",
      "country             60326 non-null object\n",
      "netSales            60326 non-null float64\n",
      "netProfit           60326 non-null float64\n",
      "gender              17361 non-null object\n",
      "age                 60326 non-null int64\n",
      "dtypes: float64(2), int64(4), object(6)\n",
      "memory usage: 5.5+ MB\n"
     ]
    }
   ],
   "source": [
    "train.info()"
   ]
  },
  {
   "cell_type": "code",
   "execution_count": 384,
   "metadata": {},
   "outputs": [
    {
     "data": {
      "text/plain": [
       "Unnamed: 0              0\n",
       "code                    0\n",
       "clientType              0\n",
       "registrationMode        0\n",
       "planName                0\n",
       "accident                0\n",
       "duration                0\n",
       "country                 0\n",
       "netSales                0\n",
       "netProfit               0\n",
       "gender              42965\n",
       "age                     0\n",
       "dtype: int64"
      ]
     },
     "execution_count": 384,
     "metadata": {},
     "output_type": "execute_result"
    }
   ],
   "source": [
    "train.isnull().sum()"
   ]
  },
  {
   "cell_type": "code",
   "execution_count": 341,
   "metadata": {},
   "outputs": [
    {
     "data": {
      "text/html": [
       "<div>\n",
       "<style scoped>\n",
       "    .dataframe tbody tr th:only-of-type {\n",
       "        vertical-align: middle;\n",
       "    }\n",
       "\n",
       "    .dataframe tbody tr th {\n",
       "        vertical-align: top;\n",
       "    }\n",
       "\n",
       "    .dataframe thead th {\n",
       "        text-align: right;\n",
       "    }\n",
       "</style>\n",
       "<table border=\"1\" class=\"dataframe\">\n",
       "  <thead>\n",
       "    <tr style=\"text-align: right;\">\n",
       "      <th></th>\n",
       "      <th>Unnamed: 0</th>\n",
       "      <th>code</th>\n",
       "      <th>clientType</th>\n",
       "      <th>registrationMode</th>\n",
       "      <th>planName</th>\n",
       "      <th>duration</th>\n",
       "      <th>country</th>\n",
       "      <th>netSales</th>\n",
       "      <th>netProfit</th>\n",
       "      <th>gender</th>\n",
       "      <th>age</th>\n",
       "    </tr>\n",
       "  </thead>\n",
       "  <tbody>\n",
       "    <tr>\n",
       "      <th>0</th>\n",
       "      <td>42104</td>\n",
       "      <td>EPX</td>\n",
       "      <td>Basic</td>\n",
       "      <td>Online</td>\n",
       "      <td>B</td>\n",
       "      <td>24</td>\n",
       "      <td>INDIA</td>\n",
       "      <td>26.0</td>\n",
       "      <td>0.00</td>\n",
       "      <td>NaN</td>\n",
       "      <td>36</td>\n",
       "    </tr>\n",
       "    <tr>\n",
       "      <th>1</th>\n",
       "      <td>869</td>\n",
       "      <td>EPX</td>\n",
       "      <td>Basic</td>\n",
       "      <td>Online</td>\n",
       "      <td>K</td>\n",
       "      <td>52</td>\n",
       "      <td>SINGAPORE</td>\n",
       "      <td>11.0</td>\n",
       "      <td>0.00</td>\n",
       "      <td>NaN</td>\n",
       "      <td>36</td>\n",
       "    </tr>\n",
       "    <tr>\n",
       "      <th>2</th>\n",
       "      <td>57025</td>\n",
       "      <td>CWT</td>\n",
       "      <td>Basic</td>\n",
       "      <td>Online</td>\n",
       "      <td>Q</td>\n",
       "      <td>6</td>\n",
       "      <td>MALAYSIA</td>\n",
       "      <td>39.6</td>\n",
       "      <td>23.76</td>\n",
       "      <td>NaN</td>\n",
       "      <td>45</td>\n",
       "    </tr>\n",
       "    <tr>\n",
       "      <th>3</th>\n",
       "      <td>1148</td>\n",
       "      <td>EPX</td>\n",
       "      <td>Basic</td>\n",
       "      <td>Online</td>\n",
       "      <td>K</td>\n",
       "      <td>37</td>\n",
       "      <td>MALAYSIA</td>\n",
       "      <td>10.0</td>\n",
       "      <td>0.00</td>\n",
       "      <td>NaN</td>\n",
       "      <td>25</td>\n",
       "    </tr>\n",
       "    <tr>\n",
       "      <th>4</th>\n",
       "      <td>23356</td>\n",
       "      <td>CWT</td>\n",
       "      <td>Basic</td>\n",
       "      <td>Online</td>\n",
       "      <td>Q</td>\n",
       "      <td>77</td>\n",
       "      <td>JAPAN</td>\n",
       "      <td>29.7</td>\n",
       "      <td>17.82</td>\n",
       "      <td>NaN</td>\n",
       "      <td>59</td>\n",
       "    </tr>\n",
       "  </tbody>\n",
       "</table>\n",
       "</div>"
      ],
      "text/plain": [
       "   Unnamed: 0 code clientType registrationMode planName  duration    country  \\\n",
       "0       42104  EPX      Basic           Online        B        24      INDIA   \n",
       "1         869  EPX      Basic           Online        K        52  SINGAPORE   \n",
       "2       57025  CWT      Basic           Online        Q         6   MALAYSIA   \n",
       "3        1148  EPX      Basic           Online        K        37   MALAYSIA   \n",
       "4       23356  CWT      Basic           Online        Q        77      JAPAN   \n",
       "\n",
       "   netSales  netProfit gender  age  \n",
       "0      26.0       0.00    NaN   36  \n",
       "1      11.0       0.00    NaN   36  \n",
       "2      39.6      23.76    NaN   45  \n",
       "3      10.0       0.00    NaN   25  \n",
       "4      29.7      17.82    NaN   59  "
      ]
     },
     "execution_count": 341,
     "metadata": {},
     "output_type": "execute_result"
    }
   ],
   "source": [
    "test.head()"
   ]
  },
  {
   "cell_type": "code",
   "execution_count": 342,
   "metadata": {},
   "outputs": [
    {
     "name": "stdout",
     "output_type": "stream",
     "text": [
      "<class 'pandas.core.frame.DataFrame'>\n",
      "RangeIndex: 3000 entries, 0 to 2999\n",
      "Data columns (total 11 columns):\n",
      "Unnamed: 0          3000 non-null int64\n",
      "code                3000 non-null object\n",
      "clientType          3000 non-null object\n",
      "registrationMode    3000 non-null object\n",
      "planName            3000 non-null object\n",
      "duration            3000 non-null int64\n",
      "country             3000 non-null object\n",
      "netSales            3000 non-null float64\n",
      "netProfit           3000 non-null float64\n",
      "gender              858 non-null object\n",
      "age                 3000 non-null int64\n",
      "dtypes: float64(2), int64(3), object(6)\n",
      "memory usage: 257.9+ KB\n"
     ]
    }
   ],
   "source": [
    "test.info()"
   ]
  },
  {
   "cell_type": "code",
   "execution_count": 343,
   "metadata": {},
   "outputs": [],
   "source": [
    "# SINCE WE NEED TO LABEL THE CATEGORICAL VARIBALES IN THE SAME ORDER (IN BOTH TRAIN DATA AND TEST DATA), \n",
    "# I INTRODUCE ANOTHE TABLE WITH JOINED ROWS OF TRAIN AND TEST DATA.\n",
    "# temp=pd.read_csv('C:\\\\Users\\\\Vibhor Tyagi\\\\Desktop\\\\Data Science\\\\temp.csv')"
   ]
  },
  {
   "cell_type": "code",
   "execution_count": 344,
   "metadata": {},
   "outputs": [],
   "source": [
    "label_encoder = preprocessing.LabelEncoder() \n",
    "\n",
    "train['code']= label_encoder.fit_transform(train['code']) \n",
    "train['clientType']= label_encoder.fit_transform(train['clientType']) \n",
    "train['planName']= label_encoder.fit_transform(train['planName']) \n",
    "train['country']= label_encoder.fit_transform(train['country'])\n",
    "train=train.drop(columns='gender')\n",
    "train=train.drop(columns='registrationMode')\n",
    "\n",
    "\n",
    "test['code']= label_encoder.fit_transform(test['code']) \n",
    "test['clientType']= label_encoder.fit_transform(test['clientType']) \n",
    "test['planName']= label_encoder.fit_transform(test['planName']) \n",
    "test['country']= label_encoder.fit_transform(test['country'])\n",
    "test=test.drop(columns='gender')\n",
    "test=test.drop(columns='registrationMode')\n"
   ]
  },
  {
   "cell_type": "code",
   "execution_count": 345,
   "metadata": {},
   "outputs": [
    {
     "name": "stdout",
     "output_type": "stream",
     "text": [
      "<class 'pandas.core.frame.DataFrame'>\n",
      "RangeIndex: 60326 entries, 0 to 60325\n",
      "Data columns (total 7 columns):\n",
      "Unnamed: 0    60326 non-null int64\n",
      "clientType    60326 non-null int32\n",
      "duration      60326 non-null int64\n",
      "netSales      60326 non-null float64\n",
      "netProfit     60326 non-null float64\n",
      "age           60326 non-null int64\n",
      "accident      60326 non-null int64\n",
      "dtypes: float64(2), int32(1), int64(4)\n",
      "memory usage: 3.0 MB\n"
     ]
    }
   ],
   "source": [
    "\n",
    "a=train['accident']\n",
    "train=train.drop(columns='accident') \n",
    "train=train.drop(columns='code') \n",
    "train=train.drop(columns='planName') \n",
    "train=train.drop(columns='country') \n",
    "\n",
    "train=train.join(a)\n",
    "train.info()"
   ]
  },
  {
   "cell_type": "code",
   "execution_count": 346,
   "metadata": {},
   "outputs": [
    {
     "name": "stdout",
     "output_type": "stream",
     "text": [
      "<class 'pandas.core.frame.DataFrame'>\n",
      "RangeIndex: 3000 entries, 0 to 2999\n",
      "Data columns (total 6 columns):\n",
      "Unnamed: 0    3000 non-null int64\n",
      "clientType    3000 non-null int32\n",
      "duration      3000 non-null int64\n",
      "netSales      3000 non-null float64\n",
      "netProfit     3000 non-null float64\n",
      "age           3000 non-null int64\n",
      "dtypes: float64(2), int32(1), int64(3)\n",
      "memory usage: 129.0 KB\n"
     ]
    }
   ],
   "source": [
    "test=test.drop(columns='code')\n",
    "test=test.drop(columns='planName')\n",
    "test=test.drop(columns='country') \n",
    "test.info()"
   ]
  },
  {
   "cell_type": "code",
   "execution_count": 389,
   "metadata": {},
   "outputs": [
    {
     "data": {
      "text/plain": [
       "<matplotlib.axes._subplots.AxesSubplot at 0x2d8770cd978>"
      ]
     },
     "execution_count": 389,
     "metadata": {},
     "output_type": "execute_result"
    },
    {
     "data": {
      "image/png": "[encoded data removed]",
      "text/plain": [
       "<Figure size 432x288 with 2 Axes>"
      ]
     },
     "metadata": {
      "needs_background": "light"
     },
     "output_type": "display_data"
    }
   ],
   "source": [
    "sns.heatmap(train.corr(),annot = True)"
   ]
  },
  {
   "cell_type": "code",
   "execution_count": 372,
   "metadata": {},
   "outputs": [],
   "source": [
    "array = train.values\n",
    "\n",
    "x_train =array[: , 0:6]\n",
    "y_train =array[ : ,6]\n",
    "\n",
    "x_test = test.values"
   ]
  },
  {
   "cell_type": "markdown",
   "metadata": {},
   "source": [
    "# APPLYING ML ALGORITHM: "
   ]
  },
  {
   "cell_type": "markdown",
   "metadata": {},
   "source": [
    "## Decision Trees"
   ]
  },
  {
   "cell_type": "code",
   "execution_count": 378,
   "metadata": {},
   "outputs": [
    {
     "data": {
      "text/plain": [
       "array([0., 0., 0., ..., 0., 0., 0.])"
      ]
     },
     "execution_count": 378,
     "metadata": {},
     "output_type": "execute_result"
    }
   ],
   "source": [
    "cl = DecisionTreeClassifier()\n",
    "cl = cl.fit(x_train,y_train)\n",
    "y_pred = cl.predict(x_test)\n",
    "y_pred"
   ]
  },
  {
   "cell_type": "code",
   "execution_count": 385,
   "metadata": {},
   "outputs": [
    {
     "data": {
      "text/plain": [
       "array([0., 1.])"
      ]
     },
     "execution_count": 385,
     "metadata": {},
     "output_type": "execute_result"
    }
   ],
   "source": [
    "np.unique(y_pred)"
   ]
  },
  {
   "cell_type": "code",
   "execution_count": 377,
   "metadata": {},
   "outputs": [
    {
     "data": {
      "text/plain": [
       "3000"
      ]
     },
     "execution_count": 377,
     "metadata": {},
     "output_type": "execute_result"
    }
   ],
   "source": [
    "len(y_pred)"
   ]
  },
  {
   "cell_type": "code",
   "execution_count": null,
   "metadata": {},
   "outputs": [],
   "source": []
  }
 ],
 "metadata": {
  "kernelspec": {
   "display_name": "Python 3",
   "language": "python",
   "name": "python3"
  },
  "language_info": {
   "codemirror_mode": {
    "name": "ipython",
    "version": 3
   },
   "file_extension": ".py",
   "mimetype": "text/x-python",
   "name": "python",
   "nbconvert_exporter": "python",
   "pygments_lexer": "ipython3",
   "version": "3.7.3"
  }
 },
 "nbformat": 4,
 "nbformat_minor": 2
}
